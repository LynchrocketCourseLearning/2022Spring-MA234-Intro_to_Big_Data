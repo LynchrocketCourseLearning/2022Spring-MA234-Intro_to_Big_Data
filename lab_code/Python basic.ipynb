{
 "cells": [
  {
   "cell_type": "markdown",
   "id": "7df42604",
   "metadata": {},
   "source": [
    "## 1 Python基础"
   ]
  },
  {
   "cell_type": "markdown",
   "id": "69927631",
   "metadata": {},
   "source": [
    "### 1.1 打印hello world！"
   ]
  },
  {
   "cell_type": "code",
   "execution_count": null,
   "id": "8e16cace",
   "metadata": {},
   "outputs": [],
   "source": [
    "print('hello world!')"
   ]
  },
  {
   "cell_type": "markdown",
   "id": "5cc723c2",
   "metadata": {},
   "source": [
    "### 1.2 基本语法"
   ]
  },
  {
   "cell_type": "code",
   "execution_count": null,
   "id": "72d0eaff",
   "metadata": {},
   "outputs": [],
   "source": [
    "# 变量名 = 值\n",
    "x = 1 # 整数类型\n",
    "x = '1' # 字符\n",
    "x = False # 布尔\n",
    "\n",
    "# 变量命名\n",
    "# 数字、字母、_\n",
    "# 只能以字母和_开头\n",
    "\n",
    "# 1x = 1 # error!\n",
    "x1 = 1\n",
    "_x1 = 1 # _开头默认是私有变量\n",
    "\n",
    "# 能查看变量的类型\n",
    "print(type(x1))\n",
    "\n",
    "# keyword\n",
    "import keyword\n",
    "keyword.kwlist\n",
    "\n",
    "# one-line comment\n",
    "'''\n",
    "multiple-line comment\n",
    "'''\n",
    "\"\"\"\n",
    "multiple-line comment\n",
    "\"\"\""
   ]
  },
  {
   "cell_type": "markdown",
   "id": "8ad2911e",
   "metadata": {},
   "source": [
    "#### 1.2.1 数学运算"
   ]
  },
  {
   "cell_type": "code",
   "execution_count": null,
   "id": "e0f8e106",
   "metadata": {},
   "outputs": [],
   "source": [
    "# 整数\n",
    "# 加 减 乘 除 求余 整除 幂\n",
    "x1+1, x1-1, x1*2, x1/2, x1%2, x1//2, x1**2"
   ]
  },
  {
   "cell_type": "markdown",
   "id": "312db997",
   "metadata": {},
   "source": [
    "#### 1.2.2 数据类型 "
   ]
  },
  {
   "cell_type": "markdown",
   "id": "5a8e8aa8",
   "metadata": {},
   "source": [
    "1. 字符"
   ]
  },
  {
   "cell_type": "code",
   "execution_count": null,
   "id": "25896487",
   "metadata": {},
   "outputs": [],
   "source": [
    "import pandas as pd\n",
    "# ./当前路径，用于相对路径中\n",
    "# import os\n",
    "# os.getcwd()\n",
    "# 可以直接打直接路径\n",
    "# 引号前面加r就直接以字符串字面值读，否则\\需要双写\\\\\n",
    "medicare_name = pd.read_csv(r'D:\\Lynchrocket\\大二下\\大数据\\lab\\1\\medicare.csv')\n",
    "location_name = medicare_name['Location'][0]"
   ]
  },
  {
   "cell_type": "markdown",
   "id": "515a8f90",
   "metadata": {},
   "source": [
    "2. 布尔"
   ]
  },
  {
   "cell_type": "code",
   "execution_count": null,
   "id": "c1eebce7",
   "metadata": {},
   "outputs": [],
   "source": [
    "# 布尔\n",
    "f = False\n",
    "t = True\n",
    "# 与 或 非 异或\n",
    "f and t, f or t, not f, f != t"
   ]
  },
  {
   "cell_type": "markdown",
   "id": "19ecf3b1",
   "metadata": {},
   "source": [
    "#### 1.2.3 字符串类型：长度、索引、切片、合并和重复"
   ]
  },
  {
   "cell_type": "code",
   "execution_count": null,
   "id": "768d875a",
   "metadata": {},
   "outputs": [],
   "source": [
    "location_name, len(location_name), location_name[1], location_name[-1], location_name[0:3:2] # 开区间\n",
    "location_name + 1 # error!\n",
    "location_name + 'da'"
   ]
  },
  {
   "cell_type": "markdown",
   "id": "dfd8bc82",
   "metadata": {},
   "source": [
    "#### 1.2.4 字符串的相关方法：find, replace, upper, split, strip, lstrip, rstrip, capitalize, title"
   ]
  },
  {
   "cell_type": "code",
   "execution_count": null,
   "id": "e20bec34",
   "metadata": {},
   "outputs": [],
   "source": [
    "location_name.find('431'), \n",
    "after_replace = location_name.replace('431','math') # 原本的字符串不会转\n",
    "\n",
    "location_name.upper()\n",
    "\n",
    "location_name.split(' ')\n",
    "\n",
    "location_name.rstrip()\n",
    "\n",
    "# 前一个只会首字母大写，后一个会使所有首字母大写\n",
    "'math sustech'.capitalize(), 'math sustech'.title()"
   ]
  },
  {
   "cell_type": "markdown",
   "id": "199efffc",
   "metadata": {},
   "source": [
    "#### 1.2.5 数据类型相互转换"
   ]
  },
  {
   "cell_type": "code",
   "execution_count": null,
   "id": "0975254f",
   "metadata": {},
   "outputs": [],
   "source": [
    "# int, str, bool, float\n"
   ]
  },
  {
   "cell_type": "markdown",
   "id": "3a178063",
   "metadata": {},
   "source": [
    "## 2 内置对象类型\n",
    "### 2.1 数字"
   ]
  },
  {
   "cell_type": "markdown",
   "id": "12317290",
   "metadata": {},
   "source": [
    "### 2.2 字符串"
   ]
  },
  {
   "cell_type": "markdown",
   "id": "4c10361c",
   "metadata": {},
   "source": [
    "### 2.3 列表"
   ]
  },
  {
   "cell_type": "markdown",
   "id": "2bca97d6",
   "metadata": {},
   "source": [
    "### 2.4 元组"
   ]
  },
  {
   "cell_type": "markdown",
   "id": "7cd0d622",
   "metadata": {},
   "source": [
    "### 2.5 字典"
   ]
  },
  {
   "cell_type": "code",
   "execution_count": null,
   "id": "59b9126d",
   "metadata": {},
   "outputs": [],
   "source": [
    "d = dict([('a',1),('lang','python')]) # 创建字典，d = {'a': 1, 'lang': 'python'}\n",
    "d['a'] # 返回1\n",
    "d['b'] # 由于'b'不在字典d里，会报错KeyError"
   ]
  },
  {
   "cell_type": "markdown",
   "id": "27dcbbae",
   "metadata": {},
   "source": [
    "为避免直接索引报错，可用`dict.get()`方法，第一个参数为key，第二个参数为未找到键值对时返回的值，默认为`None`"
   ]
  },
  {
   "cell_type": "code",
   "execution_count": null,
   "id": "17ca8f1c",
   "metadata": {},
   "outputs": [],
   "source": [
    "r = d.get('a','hello') # r = 1\n",
    "r = d.get('b','hello') # r = hello\n",
    "r = d.get('b') # r = None"
   ]
  },
  {
   "cell_type": "markdown",
   "id": "bf9887b1",
   "metadata": {},
   "source": [
    "`dict.setdefault()`方法能同时增加键值对，即若键值对存在，则与`dict.get()`方法一样；若键值对不存在，则往`dict`中增加该键值对，值默认为`None`"
   ]
  },
  {
   "cell_type": "code",
   "execution_count": null,
   "id": "2dfee96d",
   "metadata": {},
   "outputs": [],
   "source": [
    "d.setdefault('b','hello') # 使得字典d变成{'a': 1, 'lang': 'python', 'b': 'hello'}\n",
    "d.setdefault('c') # 使得字典d变成{'a': 1, 'lang': 'python', 'b': 'hello', 'c': None}"
   ]
  },
  {
   "cell_type": "markdown",
   "id": "5bd18c2f",
   "metadata": {},
   "source": [
    "`dict.keys()`，`dict.values()`，`dict.items()`分别返回key,value,(key,value)的视图，也即不会真的创建一个对象。当该`dict`被删除后，该视图也会消失。可以通过`list()`将视图转换为列表。"
   ]
  },
  {
   "cell_type": "code",
   "execution_count": null,
   "id": "398ed269",
   "metadata": {},
   "outputs": [],
   "source": [
    "d.keys() # dict_keys(['a', 'lang', 'b', 'c'])\n",
    "d.values() # dict_values([1, 'python', 'hello', None])\n",
    "d.items() # dict_items([('a', 1), ('lang', 'python'), ('b', 'hello'), ('c', None)])\n",
    "\n",
    "k = list(d.items()) # [('a', 1), ('lang', 'python'), ('b', 'hello'), ('c', None)]"
   ]
  },
  {
   "cell_type": "markdown",
   "id": "e2490279",
   "metadata": {},
   "source": [
    "修改字典内容\n",
    "1. 修改键值对"
   ]
  },
  {
   "cell_type": "markdown",
   "metadata": {},
   "source": [
    "`dict.update()`方法，字典中有对应键的就改成指定的值，没有对应键的就加上键值对"
   ]
  },
  {
   "cell_type": "code",
   "execution_count": null,
   "id": "956128e0",
   "metadata": {},
   "outputs": [],
   "source": [
    "d['a'] = 100 # 直接通过索引修改，有危险\n",
    "\n",
    "d1 = {'age':30}\n",
    "d.update(d1) # {'a': 100, 'lang': 'python', 'age': 30, 'b': 'hello', 'c': None}\n",
    "d2 = {'lang':'c++'}\n",
    "d.update(d2) # {'a': 100, 'lang': 'c++', 'age': 30, 'b': 'hello', 'c': None}"
   ]
  },
  {
   "cell_type": "markdown",
   "id": "51c777ea",
   "metadata": {},
   "source": [
    "2. 删除键值对"
   ]
  },
  {
   "cell_type": "markdown",
   "id": "a4ce35b3",
   "metadata": {},
   "source": [
    "`dict.pop()`方法，移除指定键的键值对，返回对应的值。`dict.popitem()`方法能移除最末尾的键值对。`dict.clear()`方法能清除字典全部内容。"
   ]
  },
  {
   "cell_type": "code",
   "execution_count": null,
   "id": "ecb9d3ec",
   "metadata": {},
   "outputs": [],
   "source": [
    "k = d.pop('a') # k = 100\n",
    "p = d.pop('a','111111') # p = '111111'\n",
    "# l = d.pop('a') # 报错KeyError\n",
    "w = d[123].pop() # 键为123的键值对删除，返回相应的value\n",
    "d.popitem()\n",
    "d.clear()"
   ]
  },
  {
   "cell_type": "markdown",
   "id": "b901be64",
   "metadata": {},
   "source": [
    "拷贝\n",
    "1. 浅拷贝"
   ]
  },
  {
   "cell_type": "markdown",
   "id": "341a8d32",
   "metadata": {},
   "source": [
    "`list.copy()`和`dict.copy()`提供了对列表和字典的浅拷贝方法，也即内容、内容的地址完全一样，但是所赋值的变量的地址不一样。也就是说，两个不同的变量同时指向了同一个内存位置。但是要注意的是，最外层拷贝了的列表的内容是不可变的，也即改变其一，另一个并不会变。"
   ]
  },
  {
   "cell_type": "code",
   "execution_count": null,
   "id": "4430fc54",
   "metadata": {},
   "outputs": [],
   "source": [
    "book1 = ['name',123,['python','c++']]\n",
    "book2 = book1.copy()\n",
    "book1 is book2 # False\n",
    "book1 == book2 # True\n",
    "[id(e) for e in book1] # [1401772388208, 140713777444464, 1401812622448]\n",
    "[id(e) for e in book2] # [1401772388208, 140713777444464, 1401812622448]\n",
    "id(book1),id(book2) # (1401860846336, 1401860839552)\n",
    "book1.append('sadas') # 只会修改book1，book2仍然不变\n",
    "book1[2].append('ds') # 会导致book1和book2改变"
   ]
  },
  {
   "cell_type": "markdown",
   "id": "05b1a31f",
   "metadata": {},
   "source": [
    "2. 深拷贝"
   ]
  },
  {
   "cell_type": "markdown",
   "id": "082bb190",
   "metadata": {},
   "source": [
    "需要`import copy`"
   ]
  },
  {
   "cell_type": "code",
   "execution_count": null,
   "id": "7a673eff",
   "metadata": {},
   "outputs": [],
   "source": [
    "import copy\n",
    "book3 = copy.deepcopy(book1)\n",
    "book3 is book1 # False\n",
    "book3 == book1 # True\n",
    "book1[2].append(2112) # 不会改变book3"
   ]
  },
  {
   "cell_type": "markdown",
   "id": "316e8e8f",
   "metadata": {},
   "source": [
    "### 2.6 集合"
   ]
  },
  {
   "cell_type": "markdown",
   "id": "c9f27b17",
   "metadata": {},
   "source": [
    "集合的元素不重复也无序。"
   ]
  },
  {
   "cell_type": "code",
   "execution_count": null,
   "id": "cb35bf08",
   "metadata": {},
   "outputs": [],
   "source": [
    "a = set() # 创建一个空集合\n",
    "b = set([3,2,1,3,2,1]) # 创建集合{1,2,3}，会自动去重\n",
    "c = {'facebook','twitter'} # 创建集合\n",
    "d = {} # 创建的是空的字典\n",
    "len(b) # 3，获取元素个数"
   ]
  },
  {
   "cell_type": "markdown",
   "id": "f6e8be36",
   "metadata": {},
   "source": [
    "由于集合不是序列类型（是无序的），不能通过索引获取相应的值。而且集合的元素不能是不可哈希类型的。不可哈希也就是可变对象，可哈希也即不可变对象。"
   ]
  },
  {
   "cell_type": "code",
   "execution_count": null,
   "id": "9ae04c03",
   "metadata": {},
   "outputs": [],
   "source": [
    "hash('python') # -5605605008639854234，是一个哈希值\n",
    "# hash([1,2,3]) # 报错TypeError\n",
    "# w = {'goole',[1,2,3]} # 会报错TypeError，因为列表是不可哈希类型"
   ]
  },
  {
   "cell_type": "markdown",
   "id": "df43e5d9",
   "metadata": {},
   "source": [
    "修改集合内容"
   ]
  },
  {
   "cell_type": "markdown",
   "metadata": {},
   "source": [
    "1. 增加集合元素"
   ]
  },
  {
   "cell_type": "markdown",
   "id": "48cbccec",
   "metadata": {},
   "source": [
    "`set.add()`和`set.update()`都能增加集合元素"
   ]
  },
  {
   "cell_type": "code",
   "execution_count": null,
   "id": "676b90cf",
   "metadata": {},
   "outputs": [],
   "source": [
    "c.add('rust') # {'facebook', 'rust', 'twitter'}\n",
    "a1 = {1,2,3}\n",
    "c.update(a1) # {'facebook', 1, 2, 3, 'rust', 'twitter'}\n",
    "c.update('google') # {1, 2, 3, 'rust', 'e', 'o', 'twitter', 'facebook', 'l', 'g'}"
   ]
  },
  {
   "cell_type": "markdown",
   "id": "a36542fa",
   "metadata": {},
   "source": [
    "2. 删除集合元素"
   ]
  },
  {
   "cell_type": "markdown",
   "id": "16afaa67",
   "metadata": {},
   "source": [
    "`set.pop()`，`set.remove()`，`set.discard()`，`set.clear()`"
   ]
  },
  {
   "cell_type": "code",
   "execution_count": null,
   "id": "84b8be74",
   "metadata": {},
   "outputs": [],
   "source": [
    "c.pop() # 随机删除集合中一个元素\n",
    "c.remove('e') # 指定删除一个元素，若没有该元素，会报错\n",
    "c.discard('e') # 指定删除一个元素，若没有该元素，不会报错\n",
    "c.clear() # 清空"
   ]
  },
  {
   "cell_type": "markdown",
   "id": "5526a8d4",
   "metadata": {},
   "source": [
    "不可变集合"
   ]
  },
  {
   "cell_type": "markdown",
   "id": "2b680946",
   "metadata": {},
   "source": [
    "除了没有增删的方法外，其余与普通集合相同。"
   ]
  },
  {
   "cell_type": "code",
   "execution_count": null,
   "id": "8fdbbb67",
   "metadata": {},
   "outputs": [],
   "source": [
    "f_set = frozenset('bigdata') # frozenset({'a', 'b', 'd', 'g', 'i', 't'})"
   ]
  },
  {
   "cell_type": "markdown",
   "id": "09a612dc",
   "metadata": {},
   "source": [
    "集合的关系与运算"
   ]
  },
  {
   "cell_type": "markdown",
   "id": "e94824cf",
   "metadata": {},
   "source": [
    "1. 元素和集合的关系"
   ]
  },
  {
   "cell_type": "code",
   "execution_count": null,
   "id": "08d58b9f",
   "metadata": {},
   "outputs": [],
   "source": [
    "a = set('python')\n",
    "'a' in a # False\n",
    "'h' in a # True"
   ]
  },
  {
   "cell_type": "markdown",
   "id": "04d8b893",
   "metadata": {},
   "source": [
    "2. 集合与集合的关系"
   ]
  },
  {
   "cell_type": "markdown",
   "id": "b6bf4367",
   "metadata": {},
   "source": [
    "相等"
   ]
  },
  {
   "cell_type": "code",
   "execution_count": null,
   "id": "046c22f7",
   "metadata": {},
   "outputs": [],
   "source": [
    "a = set([2,4,6,8])\n",
    "b = set([1,3,5,7])\n",
    "c = set([2,4,6,8])\n",
    "a == b # False\n",
    "a == c # True"
   ]
  },
  {
   "cell_type": "markdown",
   "id": "da2d8b57",
   "metadata": {},
   "source": [
    "子集，父集"
   ]
  },
  {
   "cell_type": "code",
   "execution_count": null,
   "id": "50d35d26",
   "metadata": {},
   "outputs": [],
   "source": [
    "d = set([4,8])\n",
    "d.issubset(a) # True\n",
    "a.issuperset(d) # True"
   ]
  },
  {
   "cell_type": "markdown",
   "id": "cd0caeaa",
   "metadata": {},
   "source": [
    "3. 集合之间的运算"
   ]
  },
  {
   "cell_type": "markdown",
   "id": "acbbabe8",
   "metadata": {},
   "source": [
    "交，并，差"
   ]
  },
  {
   "cell_type": "code",
   "execution_count": null,
   "id": "cfe2bf51",
   "metadata": {},
   "outputs": [],
   "source": [
    "a = set([1,2,5,7]); b = set([2,7,6,1])\n",
    "a & b, a.intersection(b) # 交集，{1, 2, 7}\n",
    "a | b, a.union(b) # 并集，{1, 2, 5, 6, 7}\n",
    "a - b, a.difference(b); # 差集，{5}\n",
    "a.symmetric_difference(b) # 对称差集，(a-b)|(b-a)，{5, 6}"
   ]
  },
  {
   "cell_type": "markdown",
   "id": "871042e2",
   "metadata": {},
   "source": [
    "## 3 运算和控制结构\n",
    "### 3.1 运算符"
   ]
  },
  {
   "cell_type": "code",
   "execution_count": null,
   "id": "41cc5aaa",
   "metadata": {},
   "outputs": [],
   "source": []
  },
  {
   "cell_type": "markdown",
   "id": "9ece86c2",
   "metadata": {},
   "source": [
    "### 3.2 if语句和while语句"
   ]
  },
  {
   "cell_type": "code",
   "execution_count": null,
   "id": "edabf5c1",
   "metadata": {},
   "outputs": [],
   "source": []
  },
  {
   "cell_type": "markdown",
   "id": "2ae8fb0d",
   "metadata": {},
   "source": [
    "### 3.3 for语句和列表解析"
   ]
  },
  {
   "cell_type": "markdown",
   "id": "4d6414d0",
   "metadata": {},
   "source": [
    "1. 基本样式\n",
    "```python\n",
    "for <rule> :\n",
    "    <statements>\n",
    "```"
   ]
  },
  {
   "cell_type": "code",
   "execution_count": null,
   "id": "92db66b5",
   "metadata": {},
   "outputs": [],
   "source": [
    "h = 'hello'\n",
    "for i in h: # in后面的对象必须是可迭代对象\n",
    "    print(i, end=' ') # h e l l o\n",
    "# for i in 123: # 会报错TypeError\n",
    "#     print(i)\n",
    "hasattr(h,'__iter__') # True，用于判断是否含有某种属性"
   ]
  },
  {
   "cell_type": "code",
   "execution_count": null,
   "id": "291236e4",
   "metadata": {},
   "outputs": [],
   "source": [
    "li = 'python'\n",
    "for i in range(len(li)):\n",
    "    print(li[i],end=' ') # p y t h o n"
   ]
  },
  {
   "cell_type": "markdown",
   "id": "f2cac9a0",
   "metadata": {},
   "source": [
    "对类似于字典的可迭代对象，可像如下方式使用。"
   ]
  },
  {
   "cell_type": "code",
   "execution_count": null,
   "id": "1eec3e9f",
   "metadata": {},
   "outputs": [],
   "source": [
    "d = dict([('name','Leqi'),('lang','python'),('age',20)])\n",
    "for k,v in d.items(): # k，v分别对应key，value\n",
    "    print(k,'--->',v) # name ---> Leqi\n",
    "                      # lang ---> python\n",
    "                      # age ---> 20"
   ]
  },
  {
   "cell_type": "markdown",
   "id": "63976b75",
   "metadata": {},
   "source": [
    "`zip()`方法可以建立起映射关系"
   ]
  },
  {
   "cell_type": "code",
   "execution_count": null,
   "id": "43cae41d",
   "metadata": {},
   "outputs": [],
   "source": [
    "m = 'liuleqi'\n",
    "n = 'python'\n",
    "list(zip(m,n)) # [('l', 'p'), ('i', 'y'), ('u', 't'), ('l', 'h'), ('e', 'o'), ('q', 'n')]"
   ]
  },
  {
   "cell_type": "code",
   "execution_count": null,
   "id": "c7b9a72b",
   "metadata": {},
   "outputs": [],
   "source": [
    "a = [1,2,3,4]\n",
    "b = [9,8,7,6]\n",
    "c = []\n",
    "for i in range(len(a)):\n",
    "    c.append(a[i]+b[i]) # 最终c = [10,10,10,10]\n",
    "d = []\n",
    "for x,y in zip(a,b):\n",
    "    d.append(x+y) # 最终d = [10,10,10,10]"
   ]
  },
  {
   "cell_type": "markdown",
   "id": "54e5cdec",
   "metadata": {},
   "source": [
    "`enumerate()`方法能产生序列对应关系，`random`库有产生随机数的方法"
   ]
  },
  {
   "cell_type": "code",
   "execution_count": null,
   "id": "36bf3864",
   "metadata": {},
   "outputs": [],
   "source": [
    "import random\n",
    "lst = []\n",
    "for i in range(20):\n",
    "    lst.append(random.randint(1,100))\n",
    "\n",
    "for n in lst:\n",
    "    if n % 2 == 0:\n",
    "        lst[lst.index(n)] = 'even'\n",
    "\n",
    "for i, ele in enumerate(lst):\n",
    "    if ele % 2 == 0:\n",
    "        lst[i] = 'even'"
   ]
  },
  {
   "cell_type": "markdown",
   "id": "7096a2a7",
   "metadata": {},
   "source": [
    "2. 列表解析\n",
    "```python\n",
    "[e for e in seq]\n",
    "```"
   ]
  },
  {
   "cell_type": "code",
   "execution_count": null,
   "id": "7e5762ae",
   "metadata": {},
   "outputs": [],
   "source": [
    "p = []\n",
    "for i in range(1,10):\n",
    "    p.append(i**2)\n",
    "# p = [1, 4, 9, 16, 25, 36, 49, 64, 81]\n",
    "\n",
    "q = [x**2 for x in range(1,10)] # q = [1, 4, 9, 16, 25, 36, 49, 64, 81]"
   ]
  },
  {
   "cell_type": "code",
   "execution_count": null,
   "id": "aaa9468a",
   "metadata": {},
   "outputs": [],
   "source": [
    "mybag = [' glass','apple ','\\rtea']\n",
    "[s.strip() for s in mybag] # ['glass', 'apple', 'tea']\n",
    "\n",
    "lst = ['anwang','lbm','compaq','lenovo','dell']\n",
    "[a for a in lst if 'a' in a] # ['anwang', 'compaq']"
   ]
  },
  {
   "cell_type": "markdown",
   "id": "bd78461c",
   "metadata": {},
   "source": [
    "3. 字典解析"
   ]
  },
  {
   "cell_type": "code",
   "execution_count": null,
   "id": "f8ce56d2",
   "metadata": {},
   "outputs": [],
   "source": [
    "d = {'a':1,'b':2,'c':3}\n",
    "{v:k for k,v in d.items()} # {1: 'a', 2: 'b', 3: 'c'}"
   ]
  },
  {
   "cell_type": "markdown",
   "id": "3e6aee6a",
   "metadata": {},
   "source": [
    "4. 生成器解析"
   ]
  },
  {
   "cell_type": "code",
   "execution_count": null,
   "id": "a693ee13",
   "metadata": {},
   "outputs": [],
   "source": [
    "t = (x**2 for x in range(10)) # <generator object <genexpr> at 0x0000021293D2B120>"
   ]
  },
  {
   "cell_type": "markdown",
   "id": "65c26c47",
   "metadata": {},
   "source": [
    "## 4 文件读写\n",
    "### 4.1 简单的文件读写操作"
   ]
  },
  {
   "cell_type": "markdown",
   "id": "3fe1526a",
   "metadata": {},
   "source": [
    "|序号|模式|说明|\n",
    "|---|---|---|\n",
    "|1|r|以读的方式打开。文件指针在文件开头。默认打开方式|\n",
    "|2|w|以写的方式打开。若文件已存在，则覆盖原文件；否则新建文件|\n",
    "|3|a|以写的方式打开。若文件已存在，则指针在文件的最后，追加新内容；否则新建文件，能进行读写操作|\n",
    "|4|b|以二进制模式打开，但不单独使用，配合r/w/a等使用|\n",
    "|5|+|同时读写，但不单独使用，配合r/w/a等使用|\n",
    "|6|x|创建文件，但若文件已存在，则无法创建|"
   ]
  },
  {
   "cell_type": "code",
   "execution_count": null,
   "id": "cbe85752",
   "metadata": {},
   "outputs": [],
   "source": [
    "f = open('raise.txt','w') # 第二个参数用于指定模式，省略时默认为'r'\n",
    "f.write('You raise me up.') # 写入\n",
    "f.close() # 关闭文件对象\n",
    "\n",
    "f = open('raise.txt','r') \n",
    "f.read() # 读\n",
    "f.close()"
   ]
  },
  {
   "cell_type": "code",
   "execution_count": null,
   "id": "c5a7461e",
   "metadata": {},
   "outputs": [],
   "source": [
    "# 用with就可以省略close，能自动关闭文件对象\n",
    "with open('raise.txt','a') as f:\n",
    "    f.write('hello world!')"
   ]
  },
  {
   "cell_type": "markdown",
   "id": "9a6620ff",
   "metadata": {},
   "source": [
    "文件对象中有`__iter__`和`__next__`方法，表明其为迭代器对象，可用`for`迭代内容。"
   ]
  },
  {
   "cell_type": "code",
   "execution_count": null,
   "id": "ef1903e6",
   "metadata": {},
   "outputs": [],
   "source": [
    "f = open('raise.txt','r')\n",
    "for line in f:\n",
    "    print(line,end='')\n",
    "f.read() # 由于此时f文件指针已经移动到文件末尾，该行执行只会返回''\n",
    "f.close()"
   ]
  },
  {
   "cell_type": "markdown",
   "id": "8c7c2042",
   "metadata": {},
   "source": [
    "`seek()`方法能移动文件指针"
   ]
  },
  {
   "cell_type": "code",
   "execution_count": null,
   "id": "68c00ce2",
   "metadata": {},
   "outputs": [],
   "source": [
    "f = open('raise.txt','r')\n",
    "for line in f:\n",
    "    print(line,end='')\n",
    "f.seek(0) # 0指向文件开头，1指向当前位置，2指向文件结尾\n",
    "f.read() # 由于此时f文件指针已经移动到文件开头，该行执行会返回文件第一行的内容\n",
    "f.close()"
   ]
  },
  {
   "cell_type": "markdown",
   "id": "af1800fd",
   "metadata": {},
   "source": [
    "`read()`, `readline()`, `readlines()`区别"
   ]
  },
  {
   "cell_type": "code",
   "execution_count": null,
   "id": "944b55d2",
   "metadata": {},
   "outputs": [],
   "source": [
    "f.read(n) # n表示从文件指针当前位置开始返回n个字符的内容，如果不写默认文件指针之后的内容全部返回\n",
    "f.readline() # 读至文件指针当前位置至该行末尾\n",
    "f.readlines() # 返回一个列表，从文件指针当前位置开始直至文件末尾全部内容，每行为列表的一个元素"
   ]
  },
  {
   "cell_type": "markdown",
   "id": "97a34663",
   "metadata": {},
   "source": [
    "### 4.2 输出重定向\n",
    "\n",
    "`print()`方法中有个`file`参数，指定输出方式，默认是`sys.stdout`输出到控制台。"
   ]
  },
  {
   "cell_type": "code",
   "execution_count": null,
   "id": "42654a90",
   "metadata": {},
   "outputs": [],
   "source": [
    "with open('print.txt','wt') as pf:\n",
    "    print('Life is short. You need Python.', file = pf)"
   ]
  },
  {
   "cell_type": "markdown",
   "id": "7c9cb946",
   "metadata": {},
   "source": [
    "使得`print.txt`内容为`Life is short. You need Python.`"
   ]
  },
  {
   "cell_type": "markdown",
   "id": "a4656ee0",
   "metadata": {},
   "source": [
    "### 4.3 读写特定类型文件\n",
    "\n",
    "#### 4.3.1 doc、docx\n",
    "\n",
    "需要第三方库`python-docx`，可通过`pip3 insall python-docx`安装"
   ]
  },
  {
   "cell_type": "code",
   "execution_count": null,
   "id": "b66ca5ec",
   "metadata": {},
   "outputs": [],
   "source": [
    "from docx import Document\n",
    "d = Document()\n",
    "d.add_paragraph('Life is short. You need Python.')\n",
    "# 返回值是文件指针\n",
    "para = d.add_paragraph('Amazing Grace. How sweet the sound.')\n",
    "before_para = para.insert_paragraph_before('You raise me up.')\n",
    "# 插入图片\n",
    "d.add_picture('hack.png')\n",
    "# 默认保存到当前路径\n",
    "d.save('python.docx') "
   ]
  },
  {
   "cell_type": "markdown",
   "id": "2d730d05",
   "metadata": {},
   "source": [
    "#### 4.3.2 excel\n",
    "\n",
    "需要第三方库`openpyxl`，可通过`pip3 install openpyxl`安装"
   ]
  },
  {
   "cell_type": "code",
   "execution_count": null,
   "id": "87f951fb",
   "metadata": {},
   "outputs": [],
   "source": [
    "from openpyxl import Workbook\n",
    "wb = Workbook() # 工作簿中有多个工作表，工作表包含若干个单元格\n",
    "ws = wb.active # 获取当前工作表\n",
    "ws.title # 获取title名称，可通过ws.title = 'python'改变名称\n",
    "\n",
    "ws1 = wb.create_sheet('rust') # 新建sheet，在当前sheet后面\n",
    "ws2 = wb.create_sheet('basic',0) # 指定位置新建sheet，0指在最前面的sheet\n",
    "\n",
    "wb.sheetnames # 返回全部sheet名字的列表\n",
    "ws3 = wb['python'] # 指定工作表\n",
    "\n",
    "ws['E1'] = 123 # 在单元格E1写入数字123\n",
    "ws.cell(row=2,column=2,value=111) # 在B2单元格写入数字111，从1开始计数而不是0\n",
    "wb.save('exl.xlsx') # 保存"
   ]
  },
  {
   "cell_type": "markdown",
   "id": "8cfa5086",
   "metadata": {},
   "source": [
    "#### 4.3.3 csv\n",
    "Python内置有一个csv库，直接import导入"
   ]
  },
  {
   "cell_type": "markdown",
   "id": "5036ae7b",
   "metadata": {},
   "source": [
    "写入数据\n",
    "1. 普通列表数据"
   ]
  },
  {
   "cell_type": "markdown",
   "id": "597058d2",
   "metadata": {},
   "source": [
    "`writerow()` 和 `writerows()`的区别在于前者只写入一行而后者写入多行。"
   ]
  },
  {
   "cell_type": "code",
   "execution_count": null,
   "id": "07ca04db",
   "metadata": {},
   "outputs": [],
   "source": [
    "import csv\n",
    "headers = ['class','name','sex','height','year']\n",
    "datas = [\n",
    "        [1,'xiaoming','male',168,23],\n",
    "        [1,'xiaohong','female',162,22],\n",
    "        [2,'xiaozhang','female',163,21],\n",
    "        [2,'xiaoli','male',158,21]\n",
    "    ]\n",
    "with open('test.csv','w') as f: \n",
    "    writer = csv.writer(f)\n",
    "    writer.writerow(headers)\n",
    "    writer.writerows(datas)\n",
    "## 若打开csv文件出现空行的情况，就需要添加参数newline=''，如\n",
    "## with open('test.csv','w',newline='')as f:"
   ]
  },
  {
   "cell_type": "markdown",
   "id": "15ecfb45",
   "metadata": {},
   "source": [
    "2. 字典序列数据"
   ]
  },
  {
   "cell_type": "markdown",
   "id": "3608ea3d",
   "metadata": {},
   "source": [
    "需要使用到`csv.DictWriter()`，传入两个参数，文件对象f和字段名称fieldnames。"
   ]
  },
  {
   "cell_type": "code",
   "execution_count": null,
   "id": "f37568cd",
   "metadata": {},
   "outputs": [],
   "source": [
    "import csv\n",
    "fieldnames = ['class','name','sex','height','year']\n",
    "datas = [\n",
    "        {'class':1,'name':'xiaoming','sex':'male','height':168,'year':23},\n",
    "        {'class':1,'name':'xiaohong','sex':'female','height':162,'year':22},\n",
    "        {'class':2,'name':'xiaozhang','sex':'female','height':163,'year':21},\n",
    "        {'class':2,'name':'xiaoli','sex':'male','height':158,'year':21},\n",
    "    ]\n",
    "with open('test2.csv','w',newline='')as f:\n",
    "    writer = csv.DictWriter(f, fieldnames)\n",
    "    writer.writeheader()\n",
    "    writer.writerows(datas)"
   ]
  },
  {
   "cell_type": "markdown",
   "id": "e62605ae",
   "metadata": {},
   "source": [
    "读出数据"
   ]
  },
  {
   "cell_type": "code",
   "execution_count": null,
   "id": "5ea43a21",
   "metadata": {},
   "outputs": [],
   "source": [
    "import csv\n",
    "with open(\"test.csv\") as f: # 读出csv文件中的内容，并逐行打印\n",
    "    reader = csv.reader(f)\n",
    "    for r in reader:\n",
    "        print(r)"
   ]
  },
  {
   "cell_type": "markdown",
   "id": "7bd7bfff",
   "metadata": {},
   "source": [
    "### 4.4 保存数据"
   ]
  },
  {
   "cell_type": "markdown",
   "id": "a8e8b2a6",
   "metadata": {},
   "source": [
    "#### 4.4.1 保存数据的简单方式：pickle和shelve"
   ]
  },
  {
   "cell_type": "code",
   "execution_count": null,
   "id": "79efb84f",
   "metadata": {},
   "outputs": [],
   "source": [
    "import pickle\n",
    "i = [1,2,3,4,5]\n",
    "with open('pd.data','wb') as f:\n",
    "    pickle.dump(i,f)\n",
    "\n",
    "d = pickle.load(open('pd.data','rb')) # [1, 2, 3, 4, 5]"
   ]
  },
  {
   "cell_type": "code",
   "execution_count": null,
   "id": "feb549d7",
   "metadata": {},
   "outputs": [],
   "source": [
    "import shelve\n",
    "s = shelve.open('sb.bd')\n",
    "s['name'] = 'leqi'\n",
    "s['lang'] = 'python'\n",
    "s['website'] = 'hackdata.cn'\n",
    "s.close()\n",
    "\n",
    "m = shelve.open('sb.bd')\n",
    "for k in m:\n",
    "    print(k,':',m[k]) # name : leqi\n",
    "                      # lang : python\n",
    "                      # website : hackdata.cn"
   ]
  },
  {
   "cell_type": "markdown",
   "id": "1ca2d2d8",
   "metadata": {},
   "source": [
    "#### 4.4.2 数据库SQLite"
   ]
  },
  {
   "cell_type": "code",
   "execution_count": null,
   "id": "59d77ad5",
   "metadata": {},
   "outputs": [],
   "source": [
    "import sqlite3\n",
    "conn = sqlite3.connect('lite.db') # 链接数据库\n",
    "cur = conn.cursor() # 获取游标\n",
    "\n",
    "create_table = 'create table books(title text, author text, lang text)' # sql语句\n",
    "insert_data = 'insert into books values(\"Learn Python\",\"Leqi\",\"python\")'\n",
    "cur.execute(create_table)\n",
    "cur.execute(insert_data)\n",
    "\n",
    "conn.commit()\n",
    "\n",
    "cur.execute('select * from books') # 获取的sql语句\n",
    "cur.fetchall() # 读到的所有记录全部显现出来\n",
    "\n",
    "books = [('first book','first','c'),('second book','second','d'),('third book','third','e')]\n",
    "cur.executemany('insert into books values(?,?,?)',books) # 批量插入\n",
    "\n",
    "cur.close() # 关闭游标\n",
    "conn.close() # 关闭链接"
   ]
  },
  {
   "cell_type": "markdown",
   "id": "e3d41980",
   "metadata": {},
   "source": [
    "## 5 函数\n",
    "### 5.1 函数定义与参数传入"
   ]
  },
  {
   "cell_type": "markdown",
   "id": "ee05cc0b",
   "metadata": {},
   "source": [
    "本质上函数的参数是传对象的引用"
   ]
  },
  {
   "cell_type": "markdown",
   "id": "9b991375",
   "metadata": {},
   "source": [
    "基本样式\n",
    "```python\n",
    "def <func_name>(<argument_list>):\n",
    "    '''\n",
    "    func_docs\n",
    "    '''\n",
    "    <statements>\n",
    "    return <value>\n",
    "```"
   ]
  },
  {
   "cell_type": "code",
   "execution_count": null,
   "id": "68836cb5",
   "metadata": {},
   "outputs": [],
   "source": [
    "def add(x,y):\n",
    "    '''\n",
    "    This function is used to calculate addition\n",
    "    '''\n",
    "    res = x+y\n",
    "    return res\n",
    "a = add(3,4) # 7"
   ]
  },
  {
   "cell_type": "markdown",
   "id": "64837011",
   "metadata": {},
   "source": [
    "多返回值"
   ]
  },
  {
   "cell_type": "code",
   "execution_count": null,
   "id": "43bf2abd",
   "metadata": {},
   "outputs": [],
   "source": [
    "def foo():\n",
    "    return 1,2,3\n",
    "\n",
    "a = foo() # a = (1,2,3)\n",
    "x,y,z = foo() # x=1, y=2, z=3"
   ]
  },
  {
   "cell_type": "markdown",
   "id": "e1bacafc",
   "metadata": {},
   "source": [
    "无返回值"
   ]
  },
  {
   "cell_type": "code",
   "execution_count": null,
   "id": "f383d610",
   "metadata": {},
   "outputs": [],
   "source": [
    "def foo():\n",
    "    return\n",
    "def foo():\n",
    "    return None"
   ]
  },
  {
   "cell_type": "markdown",
   "id": "a3f9e94c",
   "metadata": {},
   "source": [
    "默认参数"
   ]
  },
  {
   "cell_type": "markdown",
   "id": "17e9f882",
   "metadata": {},
   "source": [
    "默认参数必须放到参数列表的末尾"
   ]
  },
  {
   "cell_type": "code",
   "execution_count": null,
   "id": "45d59187",
   "metadata": {},
   "outputs": [],
   "source": [
    "def polynomial(x,y,z=3):\n",
    "    s = 1+2*x+y*y+z*y\n",
    "    return s\n",
    "\n",
    "polynomial(y=2, x=1)\n",
    "polynomial(1,2,4)"
   ]
  },
  {
   "cell_type": "markdown",
   "id": "b5545833",
   "metadata": {},
   "source": [
    "不定长参数：*args，**kwargs"
   ]
  },
  {
   "cell_type": "markdown",
   "id": "2cbafde2",
   "metadata": {},
   "source": [
    "*args传入的参数被视作元组，若未传，则视作传入空元组"
   ]
  },
  {
   "cell_type": "code",
   "execution_count": null,
   "id": "ac3c7ecc",
   "metadata": {},
   "outputs": [],
   "source": [
    "import math\n",
    "def is_prime(n):\n",
    "    if n <= 1:\n",
    "        return False\n",
    "    for i in range(2, int(math.sqrt(n)+1)):\n",
    "        if n % i == 0:\n",
    "            return False\n",
    "    return True\n",
    "\n",
    "def chooce_prime(*args):\n",
    "    return [i for i in args if is_prime(i)]\n",
    "\n",
    "p = chooce_prime(1,4,5,7,8,9,11,34,56,57) # [5, 7, 11]\n",
    "li = [1,4,5,7,8,9,11,34,56,57]\n",
    "q = chooce_prime(*li) # [5, 7, 11]"
   ]
  },
  {
   "cell_type": "markdown",
   "id": "4e130f89",
   "metadata": {},
   "source": [
    "**kwargs传入的参数被视作字典"
   ]
  },
  {
   "cell_type": "code",
   "execution_count": null,
   "id": "02af8291",
   "metadata": {},
   "outputs": [],
   "source": [
    "def foo(**kwargs):\n",
    "    print(kwargs)\n",
    "\n",
    "foo(a=1,b=2,c=3) # {'a': 1, 'b': 2, 'c': 3}"
   ]
  },
  {
   "cell_type": "markdown",
   "id": "6c6ed019",
   "metadata": {},
   "source": [
    "混用"
   ]
  },
  {
   "cell_type": "code",
   "execution_count": null,
   "id": "600d7761",
   "metadata": {},
   "outputs": [],
   "source": [
    "def bar(x,*args,**kwargs):\n",
    "    print(x)\n",
    "    print(args)\n",
    "    print(kwargs)\n",
    "\n",
    "bar(2,3,4,5,b='python',d='hello')\n",
    "# 2\n",
    "# (3, 4, 5)\n",
    "# {'b': 'python', 'd': 'hello'}"
   ]
  },
  {
   "cell_type": "markdown",
   "id": "161160a1",
   "metadata": {},
   "source": [
    "### lambda函数"
   ]
  },
  {
   "cell_type": "markdown",
   "id": "13585c8c",
   "metadata": {},
   "source": [
    "基本样式\n",
    "```python\n",
    "# define\n",
    "<lambda_func_name> = lambda <argument_list>: <func_body>\n",
    "# use\n",
    "<lambda_func_name>(<argument_list>)\n",
    "```"
   ]
  },
  {
   "cell_type": "code",
   "execution_count": null,
   "id": "bcdd043d",
   "metadata": {},
   "outputs": [],
   "source": [
    "polynomial = lambda x,y,z: 1+2*x+y*y+z*y\n",
    "polynomial(1,2,3) # 13"
   ]
  },
  {
   "cell_type": "markdown",
   "id": "bde124d0",
   "metadata": {},
   "source": [
    "map函数"
   ]
  },
  {
   "cell_type": "markdown",
   "id": "5d408d0f",
   "metadata": {},
   "source": [
    "常与lambda函数配合使用。利用函数func处理序列seq中的每个元素。"
   ]
  },
  {
   "cell_type": "markdown",
   "id": "d3d89f04",
   "metadata": {},
   "source": [
    "基本样式\n",
    "```python\n",
    "map(func, seq)\n",
    "```"
   ]
  },
  {
   "cell_type": "code",
   "execution_count": null,
   "id": "8af68dae",
   "metadata": {},
   "outputs": [],
   "source": [
    "[(lambda x: x+3)(i) for i in range(10)] # [3, 4, 5, 6, 7, 8, 9, 10, 11, 12]\n",
    "\n",
    "list(map((lambda x: x+3), range(10))) # [3, 4, 5, 6, 7, 8, 9, 10, 11, 12]"
   ]
  },
  {
   "cell_type": "markdown",
   "id": "c2c12a27",
   "metadata": {},
   "source": [
    "filter函数（过滤器）"
   ]
  },
  {
   "cell_type": "markdown",
   "id": "90a4af41",
   "metadata": {},
   "source": [
    "常与lambda函数配合使用。从序列seq中筛选出符合func的每个元素。"
   ]
  },
  {
   "cell_type": "markdown",
   "id": "5d85c933",
   "metadata": {},
   "source": [
    "基本样式\n",
    "```python\n",
    "filter(func, seq)\n",
    "```"
   ]
  },
  {
   "cell_type": "code",
   "execution_count": null,
   "id": "1aaf5904",
   "metadata": {},
   "outputs": [],
   "source": [
    "[x for x in range(-5,5) if x>0] # [1, 2, 3, 4]\n",
    "\n",
    "list(filter(lambda x: x>0, range(-5,5))) # [1, 2, 3, 4]"
   ]
  },
  {
   "cell_type": "markdown",
   "id": "4f3d5a28",
   "metadata": {},
   "source": [
    "嵌套函数"
   ]
  },
  {
   "cell_type": "code",
   "execution_count": null,
   "id": "d44afa2e",
   "metadata": {},
   "outputs": [],
   "source": [
    "def bar():\n",
    "    print('here is bar.')\n",
    "\n",
    "def foo(func):\n",
    "    func()\n",
    "    print('here is foo.')\n",
    "\n",
    "foo(bar)\n",
    "# here is bar.\n",
    "# here is foo."
   ]
  },
  {
   "cell_type": "code",
   "execution_count": null,
   "id": "adea8c0a",
   "metadata": {},
   "outputs": [],
   "source": [
    "def foo():\n",
    "    def bar():\n",
    "        print('here is bar.')\n",
    "    print('here is foo.')\n",
    "    return bar\n",
    "\n",
    "foo()() # 或者b = foo(); b()同样结果\n",
    "# here is foo.\n",
    "# here is bar."
   ]
  },
  {
   "cell_type": "markdown",
   "id": "e794826a",
   "metadata": {},
   "source": [
    "变量的作用域"
   ]
  },
  {
   "cell_type": "code",
   "execution_count": null,
   "id": "80fe8575",
   "metadata": {},
   "outputs": [],
   "source": [
    "a = 1\n",
    "def func1():\n",
    "    print(a+1)\n",
    "                               # 要修复可加global a\n",
    "def func2():                   # def func2():\n",
    "    a = a + 1                  #     global a\n",
    "    print(a)                   #     a = a + 1\n",
    "                               #     print(a)\n",
    "func1() # 2\n",
    "# func2() # 会报错UnboundLocalError\n",
    "\n",
    "# nonlocal声明的变量不是局部变量,也不是全局变量,而是外部嵌套函数内的变量\n",
    "def foo():\n",
    "    a = 1\n",
    "    def bar():\n",
    "        nonlocal a\n",
    "        a = a + 1\n",
    "        print(a)\n",
    "    return bar\n",
    "foo()() # 2"
   ]
  },
  {
   "cell_type": "markdown",
   "id": "0aac8c4d",
   "metadata": {},
   "source": [
    "装饰器"
   ]
  },
  {
   "cell_type": "code",
   "execution_count": null,
   "id": "a46541c3",
   "metadata": {},
   "outputs": [],
   "source": [
    "# 嵌套函数写法\n",
    "def book(name):\n",
    "    return 'My name is {}'.format(name)\n",
    "def p_doc(func):\n",
    "    def wrapper(name):\n",
    "        return '<p>{}</p>'.format(func(name))\n",
    "    return wrapper\n",
    "my = p_doc(book)\n",
    "r1 = my('Leqi') # '<p>My name is Leqi</p>'\n",
    "\n",
    "# 装饰器写法\n",
    "def p_doc(func):\n",
    "    def wrapper(name):\n",
    "        return '<p>{}</p>'.format(func(name))\n",
    "    return wrapper\n",
    "@p_doc\n",
    "def book(name):\n",
    "    return 'My name is {}'.format(name)\n",
    "r2 = book('Leqi') # '<p>My name is Leqi</p>'"
   ]
  },
  {
   "cell_type": "markdown",
   "id": "3eb5360f",
   "metadata": {},
   "source": [
    "## 6 类和对象\n",
    "### 6.1 类的定义"
   ]
  },
  {
   "cell_type": "markdown",
   "id": "c8585fa4",
   "metadata": {},
   "source": [
    "基本样式\n",
    "```python\n",
    "class <class_name>:\n",
    "    '''\n",
    "    class_docs\n",
    "    '''    \n",
    "    def __init__(self,name): # constructor\n",
    "        self.name = name\n",
    "\n",
    "    def <func_name>(self,<argument_list>): # normal function\n",
    "        <statements>\n",
    "    return <value>\n",
    "```"
   ]
  },
  {
   "cell_type": "markdown",
   "id": "953cf349",
   "metadata": {},
   "source": [
    "### 6.2 属性和方法\n",
    "#### 6.2.1 属性"
   ]
  },
  {
   "cell_type": "markdown",
   "id": "203b8718",
   "metadata": {},
   "source": [
    "属性分为实例属性和类属性。在构造器中出现的是实例属性，在类内而构造器外的是类属性。类属性随着类的创建而存在，而实例属性需要实例化后才有，不同的实例有相同的类属性（静态），但有不同的实例属性（动态）。可以直接用类名访问类属性，也可以用实例名访问类属性；但是实例属性只有实例名能访问。"
   ]
  },
  {
   "cell_type": "code",
   "execution_count": null,
   "id": "a11ee8ad",
   "metadata": {},
   "outputs": [],
   "source": [
    "class Foo:\n",
    "    lang = 'python'\n",
    "    def __init__(self, name):\n",
    "        self.name = name\n",
    "\n",
    "print(Foo.lang) # python\n",
    "# print(Foo.name) # AttributeError\n",
    "foo1 = Foo('Leqi')\n",
    "foo2 = Foo('ads')\n",
    "print(foo1.lang) # python\n",
    "print(foo1.name) # Leqi\n",
    "foo1.lang = 'c++' # 通过实例修改，会遮盖类属性\n",
    "print((foo1.lang, foo2.lang, Foo.lang)) # ('c++', 'python', 'python')"
   ]
  },
  {
   "cell_type": "markdown",
   "id": "6a9a3458",
   "metadata": {},
   "source": [
    "#### 6.2.2 方法"
   ]
  },
  {
   "cell_type": "code",
   "execution_count": null,
   "id": "4f548f30",
   "metadata": {},
   "outputs": [],
   "source": [
    "class Foo:\n",
    "    def my_method(self, x):\n",
    "        return x**2\n",
    "\n",
    "f = Foo()\n",
    "f.my_method(3)\n",
    "\n",
    "f = Foo()\n",
    "Foo.my_method(f, 3)\n",
    "# 以上两种方法的调用等价"
   ]
  },
  {
   "cell_type": "markdown",
   "id": "11107eeb",
   "metadata": {},
   "source": [
    "## 7 模块和包"
   ]
  },
  {
   "cell_type": "markdown",
   "id": "5d676a84",
   "metadata": {},
   "source": [
    "## 8 异常处理"
   ]
  },
  {
   "cell_type": "markdown",
   "id": "0bead009",
   "metadata": {},
   "source": [
    "基本样式\n",
    "```python\n",
    "try:\n",
    "    <statements>\n",
    "except:\n",
    "    <statements>\n",
    "finally:\n",
    "    <statement>\n",
    "```"
   ]
  },
  {
   "cell_type": "markdown",
   "id": "b6fe2dfd",
   "metadata": {},
   "source": [
    "`except`块能捕获`try`块中发生的异常。若捕获到了，就中断`try`块，执行`except`中的内容。`raise`能抛出异常。"
   ]
  },
  {
   "cell_type": "code",
   "execution_count": null,
   "id": "31502396",
   "metadata": {},
   "outputs": [],
   "source": [
    "try:\n",
    "    expression = input('input an expression: ')  \n",
    "    print(eval(expression))\n",
    "    print('try is executed.')\n",
    "except ZeroDivisionError:\n",
    "    print('zero cannot be divided')\n",
    "    raise"
   ]
  },
  {
   "cell_type": "markdown",
   "id": "b2191bb2",
   "metadata": {},
   "source": [
    "多个异常可用括号括起，也可以有多个分支。"
   ]
  },
  {
   "cell_type": "code",
   "execution_count": null,
   "id": "18054c0d",
   "metadata": {},
   "outputs": [],
   "source": [
    "try:\n",
    "    a = float(input('first number: '))\n",
    "    b = float(input('second number: '))\n",
    "    print('{0} / {1} = {2}'.format(a, b, a/b))\n",
    "    print('over!')\n",
    "except (ZeroDivisionError, ValueError) as e:\n",
    "    print(e)\n",
    "    print('try again.')\n",
    "except:\n",
    "    print('over!')"
   ]
  },
  {
   "cell_type": "markdown",
   "id": "e92d5a15",
   "metadata": {},
   "source": [
    "当不进入`except`块时，会执行`else`块中的内容。`finally`块无论如何都要执行。"
   ]
  },
  {
   "cell_type": "code",
   "execution_count": null,
   "id": "50118a82",
   "metadata": {},
   "outputs": [],
   "source": [
    "try:\n",
    "    a = float(input('first number: '))\n",
    "    b = float(input('second number: '))\n",
    "    print('{0} / {1} = {2}'.format(a, b, a/b))\n",
    "except (ZeroDivisionError, ValueError) as e:\n",
    "    print(e)\n",
    "    print('try again.')\n",
    "else:\n",
    "    print('over!')\n",
    "finally:\n",
    "    print('final!')"
   ]
  },
  {
   "cell_type": "markdown",
   "id": "f76ba6bc",
   "metadata": {},
   "source": [
    "`assert`断言判断相当于条件判断，但是不满足时会报错。"
   ]
  },
  {
   "cell_type": "code",
   "execution_count": null,
   "id": "52bc4b14",
   "metadata": {},
   "outputs": [],
   "source": [
    "def year(x):\n",
    "    assert x > 0\n",
    "    return str(x)+' year'\n",
    "year(-413)"
   ]
  },
  {
   "cell_type": "markdown",
   "id": "31d73a5f",
   "metadata": {},
   "source": [
    "自定义异常类型"
   ]
  },
  {
   "cell_type": "code",
   "execution_count": null,
   "id": "c099e9dc",
   "metadata": {},
   "outputs": [],
   "source": [
    "class NegativeAgeException(RuntimeError):\n",
    "    def __init__(self, message):\n",
    "        super().__init__()\n",
    "        self.message = message\n",
    "\n",
    "def checkage(age):\n",
    "    if age < 0:\n",
    "        raise NegativeAgeException('Only positive age.')\n",
    "    elif age % 2 == 0:\n",
    "        print('age is even.')\n",
    "    else:\n",
    "        print('age is odd.')\n",
    "\n",
    "try:\n",
    "    age = int(input('enter you age: '))\n",
    "    checkage(age)\n",
    "except NegativeAgeException as e:\n",
    "    print(e.message)\n",
    "except:\n",
    "    print('another thing is wrong')"
   ]
  }
 ],
 "metadata": {
  "kernelspec": {
   "display_name": "Python 3",
   "language": "python",
   "name": "python3"
  },
  "language_info": {
   "codemirror_mode": {
    "name": "ipython",
    "version": 3
   },
   "file_extension": ".py",
   "mimetype": "text/x-python",
   "name": "python",
   "nbconvert_exporter": "python",
   "pygments_lexer": "ipython3",
   "version": "3.8.8"
  }
 },
 "nbformat": 4,
 "nbformat_minor": 5
}
