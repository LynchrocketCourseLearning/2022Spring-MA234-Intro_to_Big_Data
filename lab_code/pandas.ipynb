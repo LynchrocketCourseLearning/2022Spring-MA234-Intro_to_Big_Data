{
 "cells": [
  {
   "cell_type": "markdown",
   "metadata": {},
   "source": [
    "# Pandas\n",
    "## 1.1 Series\n",
    "一维的带索引数组"
   ]
  },
  {
   "cell_type": "code",
   "execution_count": 1,
   "metadata": {},
   "outputs": [],
   "source": [
    "import pandas as pd\n",
    "iris_df = pd.read_csv('./iris.csv') # 返回Dataframe格式的数据\n",
    "iris_series_species = iris_df['species']"
   ]
  },
  {
   "cell_type": "code",
   "execution_count": null,
   "metadata": {},
   "outputs": [],
   "source": [
    "# 创建series\n",
    "# list array dict\n",
    "import numpy as np\n",
    "data_list = [1,2,3,4]\n",
    "series_list = pd.Series(data=data_list, index=['x1','x2','x3','x4'])\n",
    "\n",
    "data_array = np.array([1,2,3,4])\n",
    "series_array = pd.Series(data=data_array, index=['x1','x2','x3','x4'])\n",
    "\n",
    "data_dict = {\n",
    "    'a':1\n",
    "}"
   ]
  },
  {
   "cell_type": "code",
   "execution_count": null,
   "metadata": {},
   "outputs": [],
   "source": [
    "# 相关操作\n",
    "iris_series_species.head(1)\n",
    "iris_series_species.tail(1)\n"
   ]
  },
  {
   "cell_type": "markdown",
   "metadata": {},
   "source": [
    "## 1.2 创建Dataframe\n",
    "pd.DataFrame(data, index, columns)\n"
   ]
  },
  {
   "cell_type": "code",
   "execution_count": null,
   "metadata": {},
   "outputs": [],
   "source": [
    "df_list = pd.DataFrame(data=data_list, columns=)"
   ]
  },
  {
   "cell_type": "code",
   "execution_count": null,
   "metadata": {},
   "outputs": [],
   "source": [
    "# 操作\n",
    "iris_df.head(1)\n",
    "iris_df.tail(1)\n",
    "iris_df.info()\n",
    "iris_df.describe()\n",
    "# 探索\n",
    "iris_df.cov()\n",
    "iris_df.corr()\n",
    "# 排序\n"
   ]
  }
 ],
 "metadata": {
  "interpreter": {
   "hash": "cc5f70855ac006f3de45a3cc3b9e7d8d53845e50458809cb162b0174266dec97"
  },
  "kernelspec": {
   "display_name": "Python 3.8.8 ('base')",
   "language": "python",
   "name": "python3"
  },
  "language_info": {
   "codemirror_mode": {
    "name": "ipython",
    "version": 3
   },
   "file_extension": ".py",
   "mimetype": "text/x-python",
   "name": "python",
   "nbconvert_exporter": "python",
   "pygments_lexer": "ipython3",
   "version": "3.8.8"
  },
  "orig_nbformat": 4
 },
 "nbformat": 4,
 "nbformat_minor": 2
}
