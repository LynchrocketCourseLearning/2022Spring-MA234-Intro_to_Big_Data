{
 "cells": [
  {
   "cell_type": "markdown",
   "metadata": {},
   "source": [
    "# 数据预处理\n",
    "## Scaling"
   ]
  },
  {
   "cell_type": "code",
   "execution_count": null,
   "metadata": {},
   "outputs": [],
   "source": [
    "# 读取数据\n",
    "import pandas as pd\n",
    "teenager_sns = pd.read_csv('./data/teenager_sns.csv') # dataframe类型"
   ]
  },
  {
   "cell_type": "code",
   "execution_count": null,
   "metadata": {},
   "outputs": [],
   "source": [
    "# z-score\n",
    "from sklearn import preprocessing\n",
    "teenager_sns_age = teenager_sns['age']\n",
    "teenager_sns_zscore = preprocessing.scale(X=teenager_sns_age, with_mean=teenager_sns_age.mean(), with_std=teenager_sns_age.std())\n",
    "\n",
    "# 0-1 scaling\n",
    "teenager_sns_age_01 = preprocessing.minmax_scale(teenager_sns_age)\n",
    "\n",
    "# Decimal scaling\n",
    "k = 1\n",
    "teenager_sns_age_decimal = teenager_sns_age/10**k\n",
    "\n",
    "# Logistic scaling\n",
    "import math\n",
    "teenager_sns_age_logistic = 1/(1+math.e**(-teenager_sns_age))"
   ]
  },
  {
   "cell_type": "markdown",
   "metadata": {},
   "source": [
    "## Unsupervised Discretization"
   ]
  },
  {
   "cell_type": "code",
   "execution_count": null,
   "metadata": {},
   "outputs": [],
   "source": [
    "# 导入数据\n",
    "from sklearn import datasets\n",
    "boston = datasets.load_boston()\n",
    "boston_data = boston['data']\n",
    "boston_feature_names = boston['feature_names']\n",
    "boston_df = pd.DataFrame(data=boston_data,columns=boston_feature_names)"
   ]
  },
  {
   "cell_type": "code",
   "execution_count": null,
   "metadata": {},
   "outputs": [],
   "source": [
    "boston_LSTAT = boston_df['LSTAT']\n",
    "[boston_LSTAT_cut,bins] = pd.cut(x=boston_LSTAT, bins=4, labels=['a','b','c','d'], retbins=True)\n",
    "boston_LSTAT_cut.hist()"
   ]
  },
  {
   "cell_type": "code",
   "execution_count": null,
   "metadata": {},
   "outputs": [],
   "source": [
    "[boston_LSTAT_frequency, bins_fre] = pd.qcut(x=boston_LSTAT, q=4, labels=range(4), retbins=True)"
   ]
  },
  {
   "cell_type": "code",
   "execution_count": null,
   "metadata": {},
   "outputs": [],
   "source": [
    "# k-means\n",
    "from scipy.cluster.vq import kmeans\n",
    "kmeans(obs=boston_LSTAT, k_or_guess=4)"
   ]
  },
  {
   "cell_type": "code",
   "execution_count": null,
   "metadata": {},
   "outputs": [],
   "source": [
    "u = teenager_sns_age.mean()\n",
    "std = teenager_sns_age.std()\n",
    "bins_3 = [u+x*std for x in range(-3,4)]\n",
    "teenager_sns_age_3std = pd.cut(teenager_sns_age,bins=bins_3)"
   ]
  },
  {
   "cell_type": "markdown",
   "metadata": {},
   "source": [
    "## Data Redundancy 数据冗余"
   ]
  },
  {
   "cell_type": "code",
   "execution_count": null,
   "metadata": {},
   "outputs": [],
   "source": [
    "import pandas as pd\n",
    "import numpy as np\n",
    "data_df = pd.read_csv('./data/teenager_sns.csv')"
   ]
  },
  {
   "cell_type": "code",
   "execution_count": null,
   "metadata": {},
   "outputs": [],
   "source": [
    "data_df_age = data_df['age']\n",
    "data_df_gradyear = data_df['gradyear']\n",
    "data_df_age"
   ]
  },
  {
   "cell_type": "code",
   "execution_count": null,
   "metadata": {},
   "outputs": [],
   "source": [
    "data_df_pearson = data_df.corr()"
   ]
  },
  {
   "cell_type": "code",
   "execution_count": null,
   "metadata": {},
   "outputs": [],
   "source": [
    "import seaborn as sns\n",
    "sns.heatmap(data_df_pearson.iloc[:5,:5], annot=True)"
   ]
  },
  {
   "cell_type": "code",
   "execution_count": null,
   "metadata": {},
   "outputs": [],
   "source": [
    "sns.pairplot(data_df.iloc[:,:5])"
   ]
  },
  {
   "cell_type": "markdown",
   "metadata": {},
   "source": [
    "## Missing Data"
   ]
  },
  {
   "cell_type": "code",
   "execution_count": null,
   "metadata": {},
   "outputs": [],
   "source": [
    "import numpy as np\n",
    "data_df_age_isnan = np.isnan(data_df_age) # 判断数据段是否为空，不是空则false\n",
    "np.isnan(data_df_age).any()\n",
    "np.isnan(data_df_age).all()\n",
    "\n",
    "data_df_age.value_counts()"
   ]
  },
  {
   "cell_type": "code",
   "execution_count": null,
   "metadata": {},
   "outputs": [],
   "source": [
    "# axis=0（默认），删除行；axis=1删除列\n",
    "data_df_age.dropna() # 删除有缺失值的行\n",
    "data_df.dropna(axis=1) # 删除有缺失值的列"
   ]
  },
  {
   "cell_type": "code",
   "execution_count": null,
   "metadata": {},
   "outputs": [],
   "source": [
    "data_df_age_fill1 = data_df_age.fillna(0) # 将所有缺失值填充为0\n",
    "data_df_age_fill1.value_counts()\n",
    "\n",
    "data_df_age_fill2 = data_df_age.fillna(data_df_age.mean())\n",
    "data_df_age_fill1.value_counts()"
   ]
  },
  {
   "cell_type": "markdown",
   "metadata": {},
   "source": [
    "## Filling by Interpolation"
   ]
  },
  {
   "cell_type": "code",
   "execution_count": null,
   "metadata": {},
   "outputs": [],
   "source": [
    "import numpy as np\n",
    "import pylab as pl\n",
    "from scipy import interpolate\n",
    "\n",
    "# create data\n",
    "x = np.linspace(0,10,11)\n",
    "y = np.sin(x)\n",
    "pl.plot(x,y)\n",
    "\n",
    "# line interpolation\n",
    "func_line = interpolate.interp1d(x=x, y=y)\n",
    "x_new = np.linspace(0,10,101)\n",
    "y_new = func_line(x_new)\n",
    "pl.plot(x_new, y_new)\n",
    "\n",
    "# Lagrange interplation\n",
    "func_line2 = interpolate.lagrange(x=x, w=y)\n",
    "y_new2 = func_line2(x_new)\n",
    "pl.plot(x_new, y_new2)"
   ]
  },
  {
   "cell_type": "markdown",
   "metadata": {},
   "source": [
    "## Outliers Detection - Statistics Based Methods"
   ]
  },
  {
   "cell_type": "code",
   "execution_count": null,
   "metadata": {},
   "outputs": [],
   "source": [
    "data_df_age.isna().value_counts()"
   ]
  },
  {
   "cell_type": "code",
   "execution_count": null,
   "metadata": {},
   "outputs": [],
   "source": [
    "data_df_age.fillna('unknown').value_counts()\n",
    "data_df_age.replace(np.nan, 'unknown').value_counts()"
   ]
  },
  {
   "cell_type": "code",
   "execution_count": null,
   "metadata": {},
   "outputs": [],
   "source": [
    "data_df['sports'].hist()\n",
    "data_df['sports'].plot(kind='kde', secondary_y=True)"
   ]
  },
  {
   "cell_type": "code",
   "execution_count": null,
   "metadata": {},
   "outputs": [],
   "source": [
    "import scipy\n",
    "scipy.stats.anderson(data_df['sports'], dist='norm')"
   ]
  },
  {
   "cell_type": "code",
   "execution_count": null,
   "metadata": {},
   "outputs": [],
   "source": [
    "data_df.boxplot(column=['friends'])"
   ]
  },
  {
   "cell_type": "markdown",
   "metadata": {},
   "source": [
    "## Metric"
   ]
  },
  {
   "cell_type": "code",
   "execution_count": null,
   "metadata": {},
   "outputs": [],
   "source": [
    "from sklearn.neighbors import LocalOutlierFactor as lof\n",
    "X = [[1],[2],[3],[4],[90]]\n",
    "model = lof(n_neighbors=2, metric='minkowski') # 训练模型\n",
    "model.fit_predict(X) # 预测异常值\n",
    "model.negative_outlier_factor_ # 负值异常值"
   ]
  }
 ],
 "metadata": {
  "interpreter": {
   "hash": "cc5f70855ac006f3de45a3cc3b9e7d8d53845e50458809cb162b0174266dec97"
  },
  "kernelspec": {
   "display_name": "Python 3.8.8 ('base')",
   "language": "python",
   "name": "python3"
  },
  "language_info": {
   "codemirror_mode": {
    "name": "ipython",
    "version": 3
   },
   "file_extension": ".py",
   "mimetype": "text/x-python",
   "name": "python",
   "nbconvert_exporter": "python",
   "pygments_lexer": "ipython3",
   "version": "3.8.8"
  },
  "orig_nbformat": 4
 },
 "nbformat": 4,
 "nbformat_minor": 2
}
